{
 "cells": [
  {
   "cell_type": "markdown",
   "metadata": {},
   "source": [
    "# WeatherPy\n",
    "----\n",
    "\n",
    "#### Note\n",
    "* Instructions have been included for each segment. You do not have to follow them exactly, but they are included to help you think through the steps."
   ]
  },
  {
   "cell_type": "code",
   "execution_count": 1,
   "metadata": {
    "scrolled": true
   },
   "outputs": [],
   "source": [
    "#I seperated all random points from only points over land and ran seperate analysis on both\n",
    "#The idea being that if temperatures do increase towrd the equator it would be the same\n",
    "#for both ocean and land temperatures.\n",
    "#Max temperatures appear to be around the 23rd latitude, which is likely due to the time of year.\n",
    "#Additional panel data and more precise definitions of warmer would likely be needed to fully verify.\n",
    "#Simple linear methods show no strong correlation between latitude and temp, but linear models are weak for weather data\n",
    "#The graphs however show some trends that might be uncovered with other methods"
   ]
  },
  {
   "cell_type": "code",
   "execution_count": 2,
   "metadata": {
    "scrolled": true
   },
   "outputs": [],
   "source": [
    "# Dependencies and Setup\n",
    "import matplotlib.pyplot as plt\n",
    "import pandas as pd\n",
    "import numpy as np\n",
    "import requests\n",
    "import time\n",
    "import openweathermapy.core as owm\n",
    "import seaborn as sns\n",
    "import json\n",
    "from scipy.stats import linregress, shapiro, normaltest\n",
    "\n",
    "# Import API key\n",
    "from api_keys import api_key\n",
    "settings = {\"units\": \"metric\", \"appid\": api_key}\n",
    "# Incorporated citipy to determine city based on latitude and longitude\n",
    "from citipy import citipy\n",
    "\n",
    "# Output File (CSV)\n",
    "output_data_file = \"output_data/cities.csv\"\n",
    "\n",
    "#Weather API Variables\n",
    "w_url = 'https://api.openweathermap.org/data/2.5/weather'\n",
    "\n",
    "# Range of latitudes and longitudes\n",
    "lat_range = (-90, 90)\n",
    "lng_range = (-180, 180)"
   ]
  },
  {
   "cell_type": "markdown",
   "metadata": {},
   "source": [
    "## Generate Cities List"
   ]
  },
  {
   "cell_type": "code",
   "execution_count": 13,
   "metadata": {},
   "outputs": [
    {
     "name": "stdout",
     "output_type": "stream",
     "text": [
      "count of all datapoints:500\n",
      "count of land datapoints:148\n"
     ]
    },
    {
     "data": {
      "text/html": [
       "<div>\n",
       "<style scoped>\n",
       "    .dataframe tbody tr th:only-of-type {\n",
       "        vertical-align: middle;\n",
       "    }\n",
       "\n",
       "    .dataframe tbody tr th {\n",
       "        vertical-align: top;\n",
       "    }\n",
       "\n",
       "    .dataframe thead th {\n",
       "        text-align: right;\n",
       "    }\n",
       "</style>\n",
       "<table border=\"1\" class=\"dataframe\">\n",
       "  <thead>\n",
       "    <tr style=\"text-align: right;\">\n",
       "      <th></th>\n",
       "      <th>city</th>\n",
       "      <th>country</th>\n",
       "      <th>cloudiness</th>\n",
       "      <th>date</th>\n",
       "      <th>humidity</th>\n",
       "      <th>max_temp</th>\n",
       "      <th>min_temp</th>\n",
       "      <th>wind_speed</th>\n",
       "      <th>lat</th>\n",
       "      <th>lon</th>\n",
       "    </tr>\n",
       "  </thead>\n",
       "  <tbody>\n",
       "    <tr>\n",
       "      <th>0</th>\n",
       "      <td>Kangavar</td>\n",
       "      <td>IR</td>\n",
       "      <td>0</td>\n",
       "      <td>1567548011</td>\n",
       "      <td>26</td>\n",
       "      <td>17.38</td>\n",
       "      <td>17.38</td>\n",
       "      <td>1.16</td>\n",
       "      <td>34.299583</td>\n",
       "      <td>47.940029</td>\n",
       "    </tr>\n",
       "    <tr>\n",
       "      <th>1</th>\n",
       "      <td>Ocean</td>\n",
       "      <td>Ocean</td>\n",
       "      <td>95</td>\n",
       "      <td>1567548012</td>\n",
       "      <td>82</td>\n",
       "      <td>7.67</td>\n",
       "      <td>7.67</td>\n",
       "      <td>14.10</td>\n",
       "      <td>-53.306129</td>\n",
       "      <td>-126.121669</td>\n",
       "    </tr>\n",
       "    <tr>\n",
       "      <th>2</th>\n",
       "      <td>Ocean</td>\n",
       "      <td>Ocean</td>\n",
       "      <td>100</td>\n",
       "      <td>1567548012</td>\n",
       "      <td>90</td>\n",
       "      <td>0.57</td>\n",
       "      <td>0.57</td>\n",
       "      <td>10.37</td>\n",
       "      <td>75.645301</td>\n",
       "      <td>115.336776</td>\n",
       "    </tr>\n",
       "    <tr>\n",
       "      <th>3</th>\n",
       "      <td>Ocean</td>\n",
       "      <td>Ocean</td>\n",
       "      <td>100</td>\n",
       "      <td>1567548013</td>\n",
       "      <td>94</td>\n",
       "      <td>-0.53</td>\n",
       "      <td>-0.53</td>\n",
       "      <td>5.53</td>\n",
       "      <td>-54.305839</td>\n",
       "      <td>-38.943239</td>\n",
       "    </tr>\n",
       "    <tr>\n",
       "      <th>4</th>\n",
       "      <td>Ocean</td>\n",
       "      <td>Ocean</td>\n",
       "      <td>68</td>\n",
       "      <td>1567548013</td>\n",
       "      <td>71</td>\n",
       "      <td>28.17</td>\n",
       "      <td>28.17</td>\n",
       "      <td>2.99</td>\n",
       "      <td>34.010940</td>\n",
       "      <td>148.940305</td>\n",
       "    </tr>\n",
       "  </tbody>\n",
       "</table>\n",
       "</div>"
      ],
      "text/plain": [
       "       city country  cloudiness        date  humidity  max_temp  min_temp  \\\n",
       "0  Kangavar      IR           0  1567548011        26     17.38     17.38   \n",
       "1     Ocean   Ocean          95  1567548012        82      7.67      7.67   \n",
       "2     Ocean   Ocean         100  1567548012        90      0.57      0.57   \n",
       "3     Ocean   Ocean         100  1567548013        94     -0.53     -0.53   \n",
       "4     Ocean   Ocean          68  1567548013        71     28.17     28.17   \n",
       "\n",
       "   wind_speed        lat         lon  \n",
       "0        1.16  34.299583   47.940029  \n",
       "1       14.10 -53.306129 -126.121669  \n",
       "2       10.37  75.645301  115.336776  \n",
       "3        5.53 -54.305839  -38.943239  \n",
       "4        2.99  34.010940  148.940305  "
      ]
     },
     "execution_count": 13,
     "metadata": {},
     "output_type": "execute_result"
    }
   ],
   "source": [
    "# List for holding lat_lngs and cities\n",
    "lat_lngs = []\n",
    "city_name = []\n",
    "country=[]\n",
    "clouds =[]\n",
    "date=[]\n",
    "humidity=[]\n",
    "max_temp =[]\n",
    "min_temp=[]\n",
    "wind_spd =[]\n",
    "lat =[]\n",
    "lon =[]\n",
    "\n",
    "# Create a set of random lat and lng combinations\n",
    "# Hi Dayanara - the graphs look way better when the size below is big, but it takes one second\n",
    "#    per call in the API. So it can take a while to run when it looks it's best.\n",
    "#    set size = 1000 for speed, but look at the saved graphs to see what the larger set looks like.\n",
    "lats = np.random.uniform(low=-90.000, high=90.000, size=500)#set to 1000 for speed\n",
    "lngs = np.random.uniform(low=-180.000, high=180.000, size=500)#set to 1000 for speed\n",
    "lat_lngs = zip(lats, lngs)\n",
    "\n",
    "# Doing the call srtaight to owm to skip the missing cities stuff\n",
    "for i,lat_lng in enumerate(lat_lngs):\n",
    "    req = owm.get_current(lat_lng,**settings)\n",
    "    if req['name']=='':\n",
    "        city_name.append('Ocean')\n",
    "    else:\n",
    "        city_name.append(req['name'])\n",
    "    if req['name']=='':\n",
    "        country.append('Ocean')\n",
    "    else:\n",
    "        country.append(req['sys']['country'])\n",
    "    clouds.append(req['clouds']['all'])\n",
    "    date.append(req['dt'])\n",
    "    humidity.append(req['main']['humidity'])\n",
    "    max_temp.append(req['main']['temp_max'])\n",
    "    min_temp.append(req['main']['temp_min'])\n",
    "    wind_spd.append(req['wind']['speed'])\n",
    "    lat.append(lat_lng[0])\n",
    "    lon.append(lat_lng[1])\n",
    "\n",
    "\n",
    "# Print the city count to confirm sufficient count\n",
    "weather_dict = {\n",
    "    'city':city_name,\n",
    "    'country':country,\n",
    "    'cloudiness':clouds,\n",
    "    'date':date,\n",
    "    'humidity':humidity,\n",
    "    'max_temp':max_temp,\n",
    "    'min_temp':min_temp,\n",
    "    'wind_speed':wind_spd,\n",
    "    'lat':lat,\n",
    "    'lon':lon\n",
    "    \n",
    "}\n",
    "\n",
    "all_weather_df = pd.DataFrame(weather_dict)\n",
    "land_weather_df = all_weather_df.loc[all_weather_df['city']!=\"Ocean\"]\n",
    "print('count of all datapoints:' + str(len(all_weather_df)))\n",
    "print('count of land datapoints:' + str(len(land_weather_df)))\n",
    "all_weather_df.head()"
   ]
  },
  {
   "cell_type": "markdown",
   "metadata": {},
   "source": [
    "### Perform API Calls\n",
    "* Perform a weather check on each city using a series of successive API calls.\n",
    "* Include a print log of each city as it'sbeing processed (with the city number and city name).\n"
   ]
  },
  {
   "cell_type": "code",
   "execution_count": 16,
   "metadata": {},
   "outputs": [
    {
     "ename": "UnicodeEncodeError",
     "evalue": "'charmap' codec can't encode character '\\u012b' in position 17773: character maps to <undefined>",
     "output_type": "error",
     "traceback": [
      "\u001b[1;31m---------------------------------------------------------------------------\u001b[0m",
      "\u001b[1;31mUnicodeEncodeError\u001b[0m                        Traceback (most recent call last)",
      "\u001b[1;32m<ipython-input-16-3a627d072c8d>\u001b[0m in \u001b[0;36m<module>\u001b[1;34m\u001b[0m\n\u001b[1;32m----> 1\u001b[1;33m \u001b[0mall_weather_df\u001b[0m\u001b[1;33m.\u001b[0m\u001b[0mto_html\u001b[0m\u001b[1;33m(\u001b[0m\u001b[1;34m'weather_data.html'\u001b[0m\u001b[1;33m)\u001b[0m\u001b[1;33m\u001b[0m\u001b[1;33m\u001b[0m\u001b[0m\n\u001b[0m",
      "\u001b[1;32m~\\Anaconda3\\lib\\site-packages\\pandas\\core\\frame.py\u001b[0m in \u001b[0;36mto_html\u001b[1;34m(self, buf, columns, col_space, header, index, na_rep, formatters, float_format, sparsify, index_names, justify, max_rows, max_cols, show_dimensions, decimal, bold_rows, classes, escape, notebook, border, table_id, render_links)\u001b[0m\n\u001b[0;32m   2263\u001b[0m                                            render_links=render_links)\n\u001b[0;32m   2264\u001b[0m         \u001b[1;31m# TODO: a generic formatter wld b in DataFrameFormatter\u001b[0m\u001b[1;33m\u001b[0m\u001b[1;33m\u001b[0m\u001b[1;33m\u001b[0m\u001b[0m\n\u001b[1;32m-> 2265\u001b[1;33m         \u001b[0mformatter\u001b[0m\u001b[1;33m.\u001b[0m\u001b[0mto_html\u001b[0m\u001b[1;33m(\u001b[0m\u001b[0mclasses\u001b[0m\u001b[1;33m=\u001b[0m\u001b[0mclasses\u001b[0m\u001b[1;33m,\u001b[0m \u001b[0mnotebook\u001b[0m\u001b[1;33m=\u001b[0m\u001b[0mnotebook\u001b[0m\u001b[1;33m,\u001b[0m \u001b[0mborder\u001b[0m\u001b[1;33m=\u001b[0m\u001b[0mborder\u001b[0m\u001b[1;33m)\u001b[0m\u001b[1;33m\u001b[0m\u001b[1;33m\u001b[0m\u001b[0m\n\u001b[0m\u001b[0;32m   2266\u001b[0m \u001b[1;33m\u001b[0m\u001b[0m\n\u001b[0;32m   2267\u001b[0m         \u001b[1;32mif\u001b[0m \u001b[0mbuf\u001b[0m \u001b[1;32mis\u001b[0m \u001b[1;32mNone\u001b[0m\u001b[1;33m:\u001b[0m\u001b[1;33m\u001b[0m\u001b[1;33m\u001b[0m\u001b[0m\n",
      "\u001b[1;32m~\\Anaconda3\\lib\\site-packages\\pandas\\io\\formats\\format.py\u001b[0m in \u001b[0;36mto_html\u001b[1;34m(self, classes, notebook, border)\u001b[0m\n\u001b[0;32m    732\u001b[0m         \u001b[1;32melif\u001b[0m \u001b[0misinstance\u001b[0m\u001b[1;33m(\u001b[0m\u001b[0mself\u001b[0m\u001b[1;33m.\u001b[0m\u001b[0mbuf\u001b[0m\u001b[1;33m,\u001b[0m \u001b[0mcompat\u001b[0m\u001b[1;33m.\u001b[0m\u001b[0mstring_types\u001b[0m\u001b[1;33m)\u001b[0m\u001b[1;33m:\u001b[0m\u001b[1;33m\u001b[0m\u001b[1;33m\u001b[0m\u001b[0m\n\u001b[0;32m    733\u001b[0m             \u001b[1;32mwith\u001b[0m \u001b[0mopen\u001b[0m\u001b[1;33m(\u001b[0m\u001b[0mself\u001b[0m\u001b[1;33m.\u001b[0m\u001b[0mbuf\u001b[0m\u001b[1;33m,\u001b[0m \u001b[1;34m'w'\u001b[0m\u001b[1;33m)\u001b[0m \u001b[1;32mas\u001b[0m \u001b[0mf\u001b[0m\u001b[1;33m:\u001b[0m\u001b[1;33m\u001b[0m\u001b[1;33m\u001b[0m\u001b[0m\n\u001b[1;32m--> 734\u001b[1;33m                 \u001b[0mbuffer_put_lines\u001b[0m\u001b[1;33m(\u001b[0m\u001b[0mf\u001b[0m\u001b[1;33m,\u001b[0m \u001b[0mhtml\u001b[0m\u001b[1;33m)\u001b[0m\u001b[1;33m\u001b[0m\u001b[1;33m\u001b[0m\u001b[0m\n\u001b[0m\u001b[0;32m    735\u001b[0m         \u001b[1;32melse\u001b[0m\u001b[1;33m:\u001b[0m\u001b[1;33m\u001b[0m\u001b[1;33m\u001b[0m\u001b[0m\n\u001b[0;32m    736\u001b[0m             raise TypeError('buf is not a file name and it has no write '\n",
      "\u001b[1;32m~\\Anaconda3\\lib\\site-packages\\pandas\\io\\formats\\format.py\u001b[0m in \u001b[0;36mbuffer_put_lines\u001b[1;34m(buf, lines)\u001b[0m\n\u001b[0;32m   1624\u001b[0m     \u001b[1;32mif\u001b[0m \u001b[0many\u001b[0m\u001b[1;33m(\u001b[0m\u001b[0misinstance\u001b[0m\u001b[1;33m(\u001b[0m\u001b[0mx\u001b[0m\u001b[1;33m,\u001b[0m \u001b[0mcompat\u001b[0m\u001b[1;33m.\u001b[0m\u001b[0mtext_type\u001b[0m\u001b[1;33m)\u001b[0m \u001b[1;32mfor\u001b[0m \u001b[0mx\u001b[0m \u001b[1;32min\u001b[0m \u001b[0mlines\u001b[0m\u001b[1;33m)\u001b[0m\u001b[1;33m:\u001b[0m\u001b[1;33m\u001b[0m\u001b[1;33m\u001b[0m\u001b[0m\n\u001b[0;32m   1625\u001b[0m         \u001b[0mlines\u001b[0m \u001b[1;33m=\u001b[0m \u001b[1;33m[\u001b[0m\u001b[0mcompat\u001b[0m\u001b[1;33m.\u001b[0m\u001b[0mtext_type\u001b[0m\u001b[1;33m(\u001b[0m\u001b[0mx\u001b[0m\u001b[1;33m)\u001b[0m \u001b[1;32mfor\u001b[0m \u001b[0mx\u001b[0m \u001b[1;32min\u001b[0m \u001b[0mlines\u001b[0m\u001b[1;33m]\u001b[0m\u001b[1;33m\u001b[0m\u001b[1;33m\u001b[0m\u001b[0m\n\u001b[1;32m-> 1626\u001b[1;33m     \u001b[0mbuf\u001b[0m\u001b[1;33m.\u001b[0m\u001b[0mwrite\u001b[0m\u001b[1;33m(\u001b[0m\u001b[1;34m'\\n'\u001b[0m\u001b[1;33m.\u001b[0m\u001b[0mjoin\u001b[0m\u001b[1;33m(\u001b[0m\u001b[0mlines\u001b[0m\u001b[1;33m)\u001b[0m\u001b[1;33m)\u001b[0m\u001b[1;33m\u001b[0m\u001b[1;33m\u001b[0m\u001b[0m\n\u001b[0m",
      "\u001b[1;32m~\\Anaconda3\\lib\\encodings\\cp1252.py\u001b[0m in \u001b[0;36mencode\u001b[1;34m(self, input, final)\u001b[0m\n\u001b[0;32m     17\u001b[0m \u001b[1;32mclass\u001b[0m \u001b[0mIncrementalEncoder\u001b[0m\u001b[1;33m(\u001b[0m\u001b[0mcodecs\u001b[0m\u001b[1;33m.\u001b[0m\u001b[0mIncrementalEncoder\u001b[0m\u001b[1;33m)\u001b[0m\u001b[1;33m:\u001b[0m\u001b[1;33m\u001b[0m\u001b[1;33m\u001b[0m\u001b[0m\n\u001b[0;32m     18\u001b[0m     \u001b[1;32mdef\u001b[0m \u001b[0mencode\u001b[0m\u001b[1;33m(\u001b[0m\u001b[0mself\u001b[0m\u001b[1;33m,\u001b[0m \u001b[0minput\u001b[0m\u001b[1;33m,\u001b[0m \u001b[0mfinal\u001b[0m\u001b[1;33m=\u001b[0m\u001b[1;32mFalse\u001b[0m\u001b[1;33m)\u001b[0m\u001b[1;33m:\u001b[0m\u001b[1;33m\u001b[0m\u001b[1;33m\u001b[0m\u001b[0m\n\u001b[1;32m---> 19\u001b[1;33m         \u001b[1;32mreturn\u001b[0m \u001b[0mcodecs\u001b[0m\u001b[1;33m.\u001b[0m\u001b[0mcharmap_encode\u001b[0m\u001b[1;33m(\u001b[0m\u001b[0minput\u001b[0m\u001b[1;33m,\u001b[0m\u001b[0mself\u001b[0m\u001b[1;33m.\u001b[0m\u001b[0merrors\u001b[0m\u001b[1;33m,\u001b[0m\u001b[0mencoding_table\u001b[0m\u001b[1;33m)\u001b[0m\u001b[1;33m[\u001b[0m\u001b[1;36m0\u001b[0m\u001b[1;33m]\u001b[0m\u001b[1;33m\u001b[0m\u001b[1;33m\u001b[0m\u001b[0m\n\u001b[0m\u001b[0;32m     20\u001b[0m \u001b[1;33m\u001b[0m\u001b[0m\n\u001b[0;32m     21\u001b[0m \u001b[1;32mclass\u001b[0m \u001b[0mIncrementalDecoder\u001b[0m\u001b[1;33m(\u001b[0m\u001b[0mcodecs\u001b[0m\u001b[1;33m.\u001b[0m\u001b[0mIncrementalDecoder\u001b[0m\u001b[1;33m)\u001b[0m\u001b[1;33m:\u001b[0m\u001b[1;33m\u001b[0m\u001b[1;33m\u001b[0m\u001b[0m\n",
      "\u001b[1;31mUnicodeEncodeError\u001b[0m: 'charmap' codec can't encode character '\\u012b' in position 17773: character maps to <undefined>"
     ]
    }
   ],
   "source": [
    "all_weather_df.to_html('weather_data.html')"
   ]
  },
  {
   "cell_type": "markdown",
   "metadata": {},
   "source": []
  },
  {
   "cell_type": "markdown",
   "metadata": {},
   "source": [
    "### Convert Raw Data to DataFrame\n",
    "* Export the city data into a .csv.\n",
    "* Display the DataFrame"
   ]
  },
  {
   "cell_type": "code",
   "execution_count": null,
   "metadata": {},
   "outputs": [],
   "source": [
    "all_weather_df.head()"
   ]
  },
  {
   "cell_type": "markdown",
   "metadata": {},
   "source": [
    "### Plotting the Data\n",
    "* Use proper labeling of the plots using plot titles (including date of analysis) and axes labels.\n",
    "* Save the plotted figures as .pngs."
   ]
  },
  {
   "cell_type": "markdown",
   "metadata": {},
   "source": [
    "#### Latitude vs. Temperature Plot"
   ]
  },
  {
   "cell_type": "code",
   "execution_count": null,
   "metadata": {},
   "outputs": [],
   "source": [
    "plt.scatter(all_weather_df['lat'], all_weather_df['max_temp'])\n",
    "plt.title('Latitude vs Max Daily Temp All Points')\n",
    "plt.ylabel('Max Temp (C$^\\circ$)')\n",
    "plt.xlabel('Latitude')\n",
    "plt.grid(True, alpha=0.50)\n",
    "plt.savefig('Lat vs Max Temp All')"
   ]
  },
  {
   "cell_type": "code",
   "execution_count": null,
   "metadata": {},
   "outputs": [],
   "source": [
    "plt.scatter(land_weather_df['lat'], land_weather_df['max_temp'])\n",
    "plt.title('Latitude vs Max Daily Temp Land Points')\n",
    "plt.ylabel('Max Temp (C$^\\circ$)')\n",
    "plt.xlabel('Latitude')\n",
    "plt.grid(True, alpha=0.50)\n",
    "plt.savefig('Lat vs Max Temp Land')"
   ]
  },
  {
   "cell_type": "code",
   "execution_count": null,
   "metadata": {},
   "outputs": [],
   "source": [
    "plt.scatter(all_weather_df['lat'], all_weather_df['min_temp'])\n",
    "plt.title('Latitude vs Min Daily Temp Land Points')\n",
    "plt.ylabel('Min Temp (C$^\\circ$)')\n",
    "plt.xlabel('Latitude')\n",
    "plt.grid(True, alpha=0.50)\n",
    "plt.savefig('Lat vs Min Temp All')"
   ]
  },
  {
   "cell_type": "code",
   "execution_count": null,
   "metadata": {},
   "outputs": [],
   "source": [
    "plt.scatter(land_weather_df['lat'], land_weather_df['min_temp'])\n",
    "plt.title('Latitude vs Min Daily Temp Land Points')\n",
    "plt.ylabel('Min Temp (C$^\\circ$)')\n",
    "plt.xlabel('Latitude')\n",
    "plt.grid(True, alpha=0.50)\n",
    "plt.savefig('Lat vs Min Temp Land')"
   ]
  },
  {
   "cell_type": "markdown",
   "metadata": {},
   "source": [
    "#### Latitude vs. Humidity Plot"
   ]
  },
  {
   "cell_type": "code",
   "execution_count": null,
   "metadata": {},
   "outputs": [],
   "source": [
    "all_weather_df = all_weather_df[all_weather_df['humidity']<=100]\n",
    "plt.scatter(all_weather_df['lat'], all_weather_df['humidity'])\n",
    "plt.title('Latitude vs Humidity')\n",
    "plt.ylabel('Humidity %')\n",
    "plt.xlabel('Latitude')\n",
    "plt.grid(True, alpha=0.50)\n",
    "plt.savefig('Lat vs Humidity All')"
   ]
  },
  {
   "cell_type": "code",
   "execution_count": null,
   "metadata": {},
   "outputs": [],
   "source": [
    "land_weather_df = land_weather_df[land_weather_df['humidity']<=100]\n",
    "plt.scatter(land_weather_df['lat'], land_weather_df['humidity'])\n",
    "plt.title('Latitude vs Humidity')\n",
    "plt.ylabel('Humidity %')\n",
    "plt.xlabel('Latitude')\n",
    "plt.grid(True, alpha=0.50)\n",
    "plt.savefig('Lat vs Humidity Land')"
   ]
  },
  {
   "cell_type": "markdown",
   "metadata": {},
   "source": [
    "#### Latitude vs. Cloudiness Plot"
   ]
  },
  {
   "cell_type": "code",
   "execution_count": null,
   "metadata": {},
   "outputs": [],
   "source": [
    "plt.scatter(all_weather_df['lat'], all_weather_df['cloudiness'])\n",
    "plt.title('Latitude vs Cloudiness All Point')\n",
    "plt.ylabel('Cloudiness %')\n",
    "plt.xlabel('Latitude')\n",
    "plt.grid(True, alpha=0.50)\n",
    "plt.savefig('Lat vs Clouds All')"
   ]
  },
  {
   "cell_type": "code",
   "execution_count": null,
   "metadata": {},
   "outputs": [],
   "source": [
    "plt.scatter(land_weather_df['lat'], land_weather_df['cloudiness'])\n",
    "plt.title('Latitude vs Cloudiness Land Points')\n",
    "plt.ylabel('Cloudiness %')\n",
    "plt.xlabel('Latitude')\n",
    "plt.grid(True, alpha=0.50)\n",
    "plt.savefig('Lat vs Clouds Land')"
   ]
  },
  {
   "cell_type": "markdown",
   "metadata": {},
   "source": [
    "#### Latitude vs. Wind Speed Plot"
   ]
  },
  {
   "cell_type": "code",
   "execution_count": null,
   "metadata": {},
   "outputs": [],
   "source": [
    "plt.scatter(all_weather_df['lat'], all_weather_df['wind_speed'])\n",
    "plt.title('Latitude vs Wind Speed All Points')\n",
    "plt.ylabel('Wind Speed m/s')\n",
    "plt.xlabel('Latitude')\n",
    "plt.grid(True, alpha=0.50)\n",
    "plt.savefig('Lat vs Wind Speed All')"
   ]
  },
  {
   "cell_type": "code",
   "execution_count": null,
   "metadata": {},
   "outputs": [],
   "source": [
    "plt.scatter(land_weather_df['lat'], land_weather_df['wind_speed'])\n",
    "plt.title('Latitude vs Wind Speed Land Points')\n",
    "plt.ylabel('Wind Speed m/s')\n",
    "plt.xlabel('Latitude')\n",
    "plt.grid(True, alpha=0.50)\n",
    "plt.savefig('Lat vs Wind Speed Land')"
   ]
  },
  {
   "cell_type": "code",
   "execution_count": null,
   "metadata": {},
   "outputs": [],
   "source": [
    "#You can see that the middle is warmer, but generallt further north of the equator. Since we're looking at \n",
    "#current weather data this is likely becasue of the time of year (i.e. the sun is up north right now)\n",
    "#if we had more time some kind time weighted average would be cool\n",
    "color = land_weather_df['max_temp']\n",
    "plt.scatter(land_weather_df['lon'], land_weather_df['lat'], c=color )\n",
    "plt.savefig('Lat vs World Map Land')"
   ]
  },
  {
   "cell_type": "code",
   "execution_count": null,
   "metadata": {},
   "outputs": [],
   "source": [
    "#shows our data are normal, so regular methods are cool\n",
    "stat,p = normaltest(all_weather_df['max_temp'])\n",
    "p"
   ]
  },
  {
   "cell_type": "code",
   "execution_count": null,
   "metadata": {},
   "outputs": [],
   "source": [
    "#test all the data points, using abolute value of lat should tell us if geting closer to the equator matters\n",
    "#bascially it's a maybe and we should probably use something other than linear models\n",
    "test_vars = ['max_temp', 'min_temp', 'humidity', 'cloudiness','wind_speed']\n",
    "for t_var in test_vars:\n",
    "    results = linregress(abs(all_weather_df['lat']), all_weather_df[t_var])\n",
    "    print(results)\n",
    "    "
   ]
  },
  {
   "cell_type": "code",
   "execution_count": null,
   "metadata": {},
   "outputs": [],
   "source": [
    "#test all the data points, using abolute value of lat should tell us if geting closer to the equator matters\n",
    "#bascially it's a maybe and we should probably use something other than linear models\n",
    "print(len(land_weather_df))\n",
    "for t_var in test_vars:\n",
    "    results = linregress(abs(land_weather_df['lat']), land_weather_df[t_var])\n",
    "    print(results)"
   ]
  },
  {
   "cell_type": "code",
   "execution_count": null,
   "metadata": {},
   "outputs": [],
   "source": [
    "all_weather_df.to_json('weather_data.json')"
   ]
  },
  {
   "cell_type": "code",
   "execution_count": null,
   "metadata": {},
   "outputs": [],
   "source": []
  },
  {
   "cell_type": "code",
   "execution_count": null,
   "metadata": {},
   "outputs": [],
   "source": []
  },
  {
   "cell_type": "code",
   "execution_count": null,
   "metadata": {},
   "outputs": [],
   "source": []
  }
 ],
 "metadata": {
  "anaconda-cloud": {},
  "kernel_info": {
   "name": "python3"
  },
  "kernelspec": {
   "display_name": "bcpy36",
   "language": "python",
   "name": "bcpy36"
  },
  "language_info": {
   "codemirror_mode": {
    "name": "ipython",
    "version": 3
   },
   "file_extension": ".py",
   "mimetype": "text/x-python",
   "name": "python",
   "nbconvert_exporter": "python",
   "pygments_lexer": "ipython3",
   "version": "3.7.3"
  },
  "nteract": {
   "version": "0.12.3"
  }
 },
 "nbformat": 4,
 "nbformat_minor": 4
}
